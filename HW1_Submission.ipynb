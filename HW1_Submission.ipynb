{
 "cells": [
  {
   "cell_type": "code",
   "execution_count": null,
   "metadata": {},
   "outputs": [],
   "source": [
    "# There is no need to run this chunk of code.\n",
    "import os\n",
    "wd=''\n",
    "os.chdir(wd)\n",
    "%run HW1_solutions.ipynb"
   ]
  },
  {
   "cell_type": "markdown",
   "metadata": {},
   "source": [
    "## Homework 1 Submission\n",
    "Write your name and surname below:\n",
    "<br>\n",
    "Name:\n",
    "<br>\n",
    "Surname:"
   ]
  },
  {
   "cell_type": "markdown",
   "metadata": {},
   "source": [
    "***Problem 1:*** <br> Write a program that: <br>\n",
    "a. compares the lengths of two texts given below (i.e. the number of characters in each text) <br>\n",
    "b. compares the numbers of words in each text<br>\n",
    "c. calculates the frequency of each word (the number of times the word appears in the text) in each text and puts them in a dictionary <br>\n",
    "d. prints the number of unique words used in each text as a dictionary.\n",
    "<br>\n",
    "Example 1: {\"The legth of text a\": 487,\"The legth of text b\": 562}<br>\n",
    "Example 2: Word frequency- {\"Jovi\":2,\"in\": 4}\n"
   ]
  },
  {
   "cell_type": "code",
   "execution_count": 40,
   "metadata": {},
   "outputs": [],
   "source": [
    "a = 'Bon Jovi is an American rock band formed in 1983 in Sayreville, New Jersey. \\\n",
    "It consists of singer Jon Bon Jovi, keyboardist David Bryan, drummer Tico Torres, \\\n",
    "guitarist PhilX, and bassist Hugh McDonald. Previous bassist Alec John Such was \\\n",
    "dismissed in 1994, and longtime guitarist and co-songwriter Richie Sambora left in 2013.'\n",
    "\n",
    "b = \"Ronald Wilson Reagan (/ˈreɪɡən/; February 6, 1911 – June 5, 2004) \\\n",
    "was an American politician who served as the 40th president of the United \\\n",
    "States from 1981 to 1989. Prior to his presidency, he was a Hollywood actor \\\n",
    "and union leader before serving as the 33rd governor of California from 1967 to 1975.\""
   ]
  },
  {
   "cell_type": "code",
   "execution_count": 41,
   "metadata": {},
   "outputs": [
    {
     "name": "stdout",
     "output_type": "stream",
     "text": [
      "False\n",
      "{'a': 326, 'b': 301}\n",
      "{'a': 52, 'b': 53}\n",
      "{'Bon': 2, 'Jovi': 1, 'is': 1, 'an': 1, 'American': 1, 'rock': 1, 'band': 1, 'formed': 1, 'in': 4, '1983': 1, 'Sayreville,': 1, 'New': 1, 'Jersey.': 1, 'It': 1, 'consists': 1, 'of': 1, 'singer': 1, 'Jon': 1, 'Jovi,': 1, 'keyboardist': 1, 'David': 1, 'Bryan,': 1, 'drummer': 1, 'Tico': 1, 'Torres,': 1, 'guitarist': 2, 'PhilX,': 1, 'and': 3, 'bassist': 2, 'Hugh': 1, 'McDonald.': 1, 'Previous': 1, 'Alec': 1, 'John': 1, 'Such': 1, 'was': 1, 'dismissed': 1, '1994,': 1, 'longtime': 1, 'co-songwriter': 1, 'Richie': 1, 'Sambora': 1, 'left': 1, '2013.': 1}\n",
      "{'Ronald': 1, 'Wilson': 1, 'Reagan': 1, '(/ˈreɪɡən/;': 1, 'February': 1, '6,': 1, '1911': 1, '–': 1, 'June': 1, '5,': 1, '2004)': 1, 'was': 2, 'an': 1, 'American': 1, 'politician': 1, 'who': 1, 'served': 1, 'as': 2, 'the': 3, '40th': 1, 'president': 1, 'of': 2, 'United': 1, 'States': 1, 'from': 2, '1981': 1, 'to': 3, '1989.': 1, 'Prior': 1, 'his': 1, 'presidency,': 1, 'he': 1, 'a': 1, 'Hollywood': 1, 'actor': 1, 'and': 1, 'union': 1, 'leader': 1, 'before': 1, 'serving': 1, '33rd': 1, 'governor': 1, 'California': 1, '1967': 1, '1975.': 1}\n"
     ]
    }
   ],
   "source": [
    "###_____________Start code here_________________###\n",
    "\n",
    "print(len(a)== len(b))\n",
    "dictionaryForLens = {\"a\": len(a),\n",
    "             \"b\": len(b),}\n",
    "print(dictionaryForLens)\n",
    "aNew = a.split()\n",
    "bNew = b.split()\n",
    "getNumA = set(aNew)\n",
    "getNumB = set(bNew)\n",
    "dictionaryForWords = {\"a\": len(aNew),\n",
    "                        \"b\": len(bNew)}\n",
    "print(dictionaryForWords)\n",
    "len(a) == len(b)\n",
    "\n",
    "newlist = []\n",
    "newlist1 = []\n",
    "for i in aNew:\n",
    "    newlist.append(aNew.count(i))\n",
    "for w in bNew:\n",
    "    newlist1.append(bNew.count(w))\n",
    "print(dict(zip(aNew, newlist)))\n",
    "print(dict(zip(bNew, newlist1)))\n",
    "###_____________End code here_________________###"
   ]
  },
  {
   "cell_type": "code",
   "execution_count": null,
   "metadata": {},
   "outputs": [],
   "source": [
    "# There is no need to run this chunk of code.\n",
    "ex1(a,b)"
   ]
  },
  {
   "cell_type": "markdown",
   "metadata": {},
   "source": [
    "***Problem 13:*** Write a program to calculate the sum of the digits of a number  until it is a single-digit number (Example: **199** -> 1+9+9=**19** -> 1+9=**10** -> 1+0=**1**). Let the program print the result of each step (the bolded numbers in the example). Run the program for 289, 1011, 3333."
   ]
  },
  {
   "cell_type": "code",
   "execution_count": 43,
   "metadata": {},
   "outputs": [
    {
     "name": "stdout",
     "output_type": "stream",
     "text": [
      "12\n",
      "3\n",
      "19\n",
      "10\n",
      "1\n",
      "3\n"
     ]
    }
   ],
   "source": [
    "###_____________Start code here_________________###\n",
    "\n",
    "def numcount(num):\n",
    "    newls = [int(i) for i in str(num)]\n",
    "    while len(newls)!=1:\n",
    "        newsum= sum(newls)\n",
    "        print(newsum)\n",
    "        newls = [int(i) for i in str(newsum)]\n",
    "numcount(3333)\n",
    "numcount(289)\n",
    "numcount(1011)\n",
    "###_____________End code here_________________###"
   ]
  },
  {
   "cell_type": "code",
   "execution_count": null,
   "metadata": {},
   "outputs": [],
   "source": [
    "# There is no need to run this chunk of code.\n",
    "ex13(289)\n",
    "ex13(1011)\n",
    "ex13(3333)"
   ]
  },
  {
   "cell_type": "markdown",
   "metadata": {},
   "source": [
    "***Problem 14:*** Write a program to print a chess board where **\"X\"s** are black squares and **\"O\"s** are white ones. Hint: you can use \"end\" parameter of print() function to print on the same line and separate the outputs of different prints by space or any character you want. More on this topic here: https://www.geeksforgeeks.org/gfact-50-python-end-parameter-in-print/.\n",
    "<br>The output should be like this:\n",
    "<img src=\"chess.jpg\" style=\"width: 200px;\">"
   ]
  },
  {
   "cell_type": "code",
   "execution_count": 44,
   "metadata": {},
   "outputs": [
    {
     "name": "stdout",
     "output_type": "stream",
     "text": [
      "-----------------\n",
      "|X|O|X|O|X|O|X|O|\n",
      "-----------------\n",
      "|O|X|O|X|O|X|O|X|\n",
      "-----------------\n",
      "|X|O|X|O|X|O|X|O|\n",
      "-----------------\n",
      "|O|X|O|X|O|X|O|X|\n",
      "-----------------\n",
      "|X|O|X|O|X|O|X|O|\n",
      "-----------------\n",
      "|O|X|O|X|O|X|O|X|\n",
      "-----------------\n",
      "|X|O|X|O|X|O|X|O|\n",
      "-----------------\n",
      "|O|X|O|X|O|X|O|X|\n",
      "-----------------\n"
     ]
    }
   ],
   "source": [
    "###_____________Start code here_________________###\n",
    "def startX(symbol,count):\n",
    "    X = \"|\"\n",
    "    localcount = count*2+1\n",
    "    while count > 1:\n",
    "        if len(X) >= localcount:\n",
    "            break\n",
    "        else:\n",
    "            X = X+ symbol+\"|\"\n",
    "            X += \"X\" +\"|\"\n",
    "        count -= 1\n",
    "    return X\n",
    "\n",
    "def startO(symbol,count):\n",
    "    O = \"|\"\n",
    "    localcount = count*2+1\n",
    "    while count > 1:\n",
    "        if len(O) >= localcount :\n",
    "            break\n",
    "        else:\n",
    "             O = O +symbol+\"|\"\n",
    "             O += \"O\" +\"|\"\n",
    "        count -= 1\n",
    "    return O\n",
    "def printline(line):\n",
    "    localcount = line*2+1\n",
    "    printgic =\"\"\n",
    "    l = 1\n",
    "    while l<=localcount:\n",
    "        printgic += \"-\"\n",
    "        l+=1\n",
    "    print(printgic)\n",
    "def typeX(line):\n",
    "    print(startX(\"O\", line))\n",
    "def typeO(line):\n",
    "    print(startO(\"X\",line))\n",
    "def typeAll(line):\n",
    "    lineChange = line-1\n",
    "    newLine = line\n",
    "    printline(line)\n",
    "    while lineChange >= 0:\n",
    "        if lineChange % 2 == 1:\n",
    "            typeO(newLine)\n",
    "            printline(line)\n",
    "        else:\n",
    "            typeX(newLine)\n",
    "            printline(line)\n",
    "        lineChange -= 1\n",
    "typeAll(8)\n",
    "\n",
    "###_____________End code here_________________###"
   ]
  },
  {
   "cell_type": "code",
   "execution_count": null,
   "metadata": {},
   "outputs": [],
   "source": [
    "# There is no need to run this chunk of code.\n",
    "ex14()"
   ]
  },
  {
   "cell_type": "markdown",
   "metadata": {},
   "source": [
    "***Problem 15:*** Write a program to reverse the digits of a given integer without using any built-in function or slicing. (**Example**: 12345 to 54321). Run the program for 4815162342."
   ]
  },
  {
   "cell_type": "code",
   "execution_count": 36,
   "metadata": {},
   "outputs": [
    {
     "name": "stdout",
     "output_type": "stream",
     "text": [
      "2432615184\n"
     ]
    }
   ],
   "source": [
    "###_____________Start code here_________________###\n",
    "\n",
    "def revfunc(num):\n",
    "    newstr = str(num)\n",
    "    newstrnum = []\n",
    "    listNum = list(newstr)\n",
    "    i = len(listNum)-1\n",
    "    while(i>=0):\n",
    "        b = listNum[i]\n",
    "        newstrnum.append(b)\n",
    "        i -= 1\n",
    "    backtostr = ''.join(newstrnum)\n",
    "    newnum = int(backtostr)\n",
    "    return newnum\n",
    "print(revfunc(4815162342))\n",
    "\n",
    "###_____________End code here_________________###"
   ]
  },
  {
   "cell_type": "code",
   "execution_count": null,
   "metadata": {},
   "outputs": [],
   "source": [
    "# There is no need to run this chunk of code.\n",
    "ex15(4815162342)"
   ]
  },
  {
   "cell_type": "markdown",
   "metadata": {},
   "source": [
    "***Problem 17:*** Write a function that will find all numbers between A and B (inclusive) such that each digit of the number is even. For example foo(20,26) returns [22,24,26]. Call the function for A=40 and B=140. 0 is even number."
   ]
  },
  {
   "cell_type": "code",
   "execution_count": 45,
   "metadata": {},
   "outputs": [
    {
     "name": "stdout",
     "output_type": "stream",
     "text": [
      "[42, 44, 46, 48, 50, 52, 54, 56, 58, 60, 62, 64, 66, 68, 70, 72, 74, 76, 78, 80, 82, 84, 86, 88, 90, 92, 94, 96, 98, 100, 102, 104, 106, 108, 110, 112, 114, 116, 118, 120, 122, 124, 126, 128, 130, 132, 134, 136, 138, 140]\n"
     ]
    }
   ],
   "source": [
    "###_____________Start code here_________________###\n",
    "\n",
    "def findeven(a,b):\n",
    "    newlis =[]\n",
    "    if a%2 == 1:\n",
    "        j = a+1\n",
    "        while(j <= b):\n",
    "            newlis.append(j)\n",
    "            j+=2\n",
    "    else:\n",
    "        d = a\n",
    "        while(d<b):\n",
    "            newlis.append(d+2)\n",
    "            d+=2\n",
    "    return newlis\n",
    "print(findeven(40,140))\n",
    "###_____________End code here_________________###"
   ]
  },
  {
   "cell_type": "code",
   "execution_count": null,
   "metadata": {},
   "outputs": [],
   "source": [
    "# There is no need to run this chunk of code.\n",
    "ex17(40,140)"
   ]
  },
  {
   "cell_type": "markdown",
   "metadata": {},
   "source": [
    "***Problem 18:*** On basic cell phones numeric keypad is used to write a message. Write a function to output the numerical sequence of the keys to be pressed for any message. For instance, numerical sequence for typing \"P\" will be 7 and for \"I\" 444. Another example, the sequence for \"hello\" will be 4433555555666. Make the input text uppercase before converting to numerical sequence. Call the function for the following input **\"HI DEAR! I WILL BE LATE TODAY.\"**\n",
    "\n",
    "| Key | Symbols |\n",
    "|----|----|\n",
    "|1|. , ? ! :|\n",
    "|2|A B C|\n",
    "|3|D E F|\n",
    "|4|G H I|\n",
    "|5|J K L|\n",
    "|6|M N O|\n",
    "|7|P Q R S|\n",
    "|8|T U V|\n",
    "|9|W X Y Z|\n",
    "|0| space |\n"
   ]
  },
  {
   "cell_type": "code",
   "execution_count": 61,
   "metadata": {},
   "outputs": [
    {
     "data": {
      "text/plain": [
       "'44444033327771111044409444555555022330555283308666329991'"
      ]
     },
     "execution_count": 61,
     "metadata": {},
     "output_type": "execute_result"
    }
   ],
   "source": [
    "###_____________Start code here_________________###\n",
    "# def findnum(sentence):\n",
    "#     sen1 = sentence.upper()\n",
    "#     setstr = [\"1\",\"11\",\"111\",\"1111\",\"11111\",\"2\",\"22\",\"222\",\"3\",\"33\",\"333\",\"4\",\"44\",\"444\",\"5\",\"55\",\"555\",\"6\",\"66\",\"666\",\"7\",\"77\",\"777\",\"7777\",\"8\",\"88\",\"888\",\"9\",\"99\",\"999\",\"9999\",\"0\"]\n",
    "#     setletter=[\".\",\",\",\"?\",\"!\",\":\",\"A\",\"B\",\"C\",\"D\",\"E\",\"F\",\"G\",\"H\",\"I\",\"J\",\"K\",\"L\",\"M\",\"N\",\"O\",\"P\",\"Q\",\"R\",\"S\",\"T\",\"U\",\"V\",\"W\",\"X\",\"Y\",\"Z\",\" \"]\n",
    "#     sumup = dict(zip(setletter, setstr))\n",
    "#     print(sumup)\n",
    "    \n",
    "#     newsent = list(sen1)\n",
    "#     i=\"\"\n",
    "#     for y in newsent:\n",
    "#         i += sumup[y]\n",
    "        \n",
    "#     return i\n",
    "# print(findnum(\"HI DEAR! I WILL BE LATE TODAY.\"))\n",
    "\n",
    "\n",
    "def find(sen):\n",
    "    abc = {1:[\".\", \",\", \"?\", \"!\", \":\"],\n",
    "           2:[\"A\", \"B\", \"C\"],\n",
    "           3:[\"D\", \"E\", \"F\"],\n",
    "           4:[\"G\", \"H\", \"I\"],\n",
    "           5:[\"J\", \"K\", \"L\"],\n",
    "           6:[\"M\", \"N\", \"O\"],\n",
    "           7:[\"P\", \"Q\", \"R\", \"S\"],\n",
    "           8:[\"T\", \"U\", \"V\"],\n",
    "           9:[\"W\", \"X\", \"Y\", \"Z\"],\n",
    "           0:[\" \"]}\n",
    "    newarr = \"\"\n",
    "    \n",
    "    sen1 = sen.upper()\n",
    "    for k in sen1:\n",
    "        for n in abc.keys():\n",
    "            for l in abc[n]:\n",
    "                nk=\"\"\n",
    "                if k == l:\n",
    "                    kk = abc[n].index(k)+1\n",
    "                    nk += str(n) * kk\n",
    "                    newarr += nk\n",
    "                \n",
    "                else:\n",
    "                    continue\n",
    "    return newarr\n",
    "\n",
    "find(\"HI DEAR! I WILL BE LATE TODAY.\")\n",
    "\n",
    "\n",
    "###_____________End code here_________________###"
   ]
  },
  {
   "cell_type": "code",
   "execution_count": 54,
   "metadata": {},
   "outputs": [
    {
     "ename": "NameError",
     "evalue": "name 'ex18' is not defined",
     "output_type": "error",
     "traceback": [
      "\u001b[1;31m---------------------------------------------------------------------------\u001b[0m",
      "\u001b[1;31mNameError\u001b[0m                                 Traceback (most recent call last)",
      "\u001b[1;32m<ipython-input-54-bfd8be83bcb8>\u001b[0m in \u001b[0;36m<module>\u001b[1;34m\u001b[0m\n\u001b[0;32m      1\u001b[0m \u001b[1;31m# There is no need to run this chunk of code.\u001b[0m\u001b[1;33m\u001b[0m\u001b[1;33m\u001b[0m\u001b[1;33m\u001b[0m\u001b[0m\n\u001b[1;32m----> 2\u001b[1;33m \u001b[0mprint\u001b[0m\u001b[1;33m(\u001b[0m\u001b[0mex18\u001b[0m\u001b[1;33m(\u001b[0m\u001b[1;34m\"HI DEAR! I WILL BE LATE TODAY.\"\u001b[0m\u001b[1;33m)\u001b[0m\u001b[1;33m)\u001b[0m\u001b[1;33m\u001b[0m\u001b[1;33m\u001b[0m\u001b[0m\n\u001b[0m",
      "\u001b[1;31mNameError\u001b[0m: name 'ex18' is not defined"
     ]
    }
   ],
   "source": [
    "# There is no need to run this chunk of code.\n",
    "print(ex18(\"HI DEAR! I WILL BE LATE TODAY.\"))"
   ]
  },
  {
   "cell_type": "markdown",
   "metadata": {},
   "source": [
    "***Problem 20:*** Write a program that accepts a sentence and prints the number of letters and digits in it. Run the program for \"1, 2, 3, 4... Let's run the code!\" "
   ]
  },
  {
   "cell_type": "code",
   "execution_count": 58,
   "metadata": {},
   "outputs": [
    {
     "data": {
      "text/plain": [
       "'the number of integers is 4 and the number of letters is 14'"
      ]
     },
     "execution_count": 58,
     "metadata": {},
     "output_type": "execute_result"
    }
   ],
   "source": [
    "###_____________Start code here_________________###\n",
    "\n",
    "def count(sentence):\n",
    "    intset = [\"0\",\"1\",\"2\",\"3\",\"4\",\"5\",\"6\",\"7\",\"8\",\"9\",]\n",
    "    integers = []\n",
    "    letters = []\n",
    "    newsent = list(sentence)\n",
    "    for key in newsent:\n",
    "        if key.isdigit():\n",
    "            integers.append(key)\n",
    "        elif key.isalpha():\n",
    "            letters.append(key)\n",
    "        else:\n",
    "            continue\n",
    "    intcount = len(integers)\n",
    "    letcount = len(letters)\n",
    "    return \"the number of integers is {0} and the number of letters is {1}\".format(intcount,letcount)\n",
    "count(\"1, 2, 3, 4... Let's run the code!\")\n",
    "###_____________End code here_________________###"
   ]
  },
  {
   "cell_type": "code",
   "execution_count": null,
   "metadata": {},
   "outputs": [],
   "source": [
    "# There is no need to run this chunk of code.\n",
    "ex20(\"1, 2, 3, 4... Let's run the code!\")"
   ]
  },
  {
   "cell_type": "markdown",
   "metadata": {},
   "source": [
    "***Problem 22:*** Two people throw two six-sided fair dices each. The one with greater sum wins, and if the sum is equal, they draw. Write a program that simulates the game and plays 100 time. Print the number of wins of Player 1, Player 2 and draws."
   ]
  },
  {
   "cell_type": "code",
   "execution_count": 59,
   "metadata": {},
   "outputs": [
    {
     "name": "stdout",
     "output_type": "stream",
     "text": [
      "the gamer1 49 the gamer2 40 the draw 11\n"
     ]
    }
   ],
   "source": [
    "###_____________Start code here_________________###\n",
    "import random\n",
    "def play(num):\n",
    "    gamer1win=0\n",
    "    gamer2win=0\n",
    "    drawwin=0\n",
    "    for i in range(num):\n",
    "        gamer1 = 0\n",
    "        gamer2 = 0\n",
    "        equal = 0\n",
    "        for l in range(2):\n",
    "            num = [1,2,3,4,5,6]\n",
    "            gamer1 = gamer1+random.choice(num)\n",
    "            gamer2 = gamer2+random.choice(num)\n",
    "\n",
    "        if gamer1 > gamer2:\n",
    "            gamer1win+=1\n",
    "        elif gamer1 < gamer2:\n",
    "            gamer2win += 1\n",
    "        elif gamer1 == gamer2:\n",
    "            drawwin += 1\n",
    "    return \"the gamer1 {0} the gamer2 {1} the draw {2}\".format(gamer1win,gamer2win,drawwin)\n",
    "    \n",
    "print(play(100))\n",
    "\n",
    "###_____________End code here_________________###"
   ]
  },
  {
   "cell_type": "code",
   "execution_count": null,
   "metadata": {},
   "outputs": [],
   "source": [
    "# There is no need to run this chunk of code.\n",
    "ex22()"
   ]
  },
  {
   "cell_type": "markdown",
   "metadata": {},
   "source": [
    "***Problem 23:*** Write a program that randomly generates a nine-character password. First 3 characters must be from the set \"let\", second 3 characters from the set \"num\", last three ones from the set \"sym\". Set seed() to 42 and generate a password."
   ]
  },
  {
   "cell_type": "code",
   "execution_count": 20,
   "metadata": {},
   "outputs": [],
   "source": [
    "let = {'A','B','C','a','b','c'}\n",
    "num = {1,2,3,4,5,6}\n",
    "sym = {'!','@','#','$','%','^'}"
   ]
  },
  {
   "cell_type": "code",
   "execution_count": 8,
   "metadata": {},
   "outputs": [
    {
     "name": "stdout",
     "output_type": "stream",
     "text": [
      "aCC632$$@\n"
     ]
    }
   ],
   "source": [
    "###_____________Start code here_________________###\n",
    "let = {'A','B','C','a','b','c'}\n",
    "num = {1,2,3,4,5,6}\n",
    "sym = {'!','@','#','$','%','^'}\n",
    "def makepass():\n",
    "    import random\n",
    "    random.seed( 42 )\n",
    "    password = \"\"\n",
    "    i = 1\n",
    "    while(i <= 9):\n",
    "        if i <= 3:\n",
    "            b = random.choice(tuple(let))\n",
    "            password += b\n",
    "            i+=1\n",
    "        elif i > 3 and i <= 6:\n",
    "            f = random.choice(tuple(num))\n",
    "            s = str(f)\n",
    "            password += s\n",
    "            i+=1\n",
    "        elif i >6 and i <= 9:\n",
    "            t = random.choice(tuple(sym))\n",
    "            password += t\n",
    "            i+=1\n",
    "    return password\n",
    "print(makepass())\n",
    "\n",
    "###_____________End code here_________________###"
   ]
  },
  {
   "cell_type": "code",
   "execution_count": 2,
   "metadata": {},
   "outputs": [
    {
     "ename": "NameError",
     "evalue": "name 'ex23' is not defined",
     "output_type": "error",
     "traceback": [
      "\u001b[1;31m---------------------------------------------------------------------------\u001b[0m",
      "\u001b[1;31mNameError\u001b[0m                                 Traceback (most recent call last)",
      "\u001b[1;32m<ipython-input-2-dbd7f09aa0f8>\u001b[0m in \u001b[0;36m<module>\u001b[1;34m\u001b[0m\n\u001b[0;32m      1\u001b[0m \u001b[1;31m# There is no need to run this chunk of code.\u001b[0m\u001b[1;33m\u001b[0m\u001b[1;33m\u001b[0m\u001b[1;33m\u001b[0m\u001b[0m\n\u001b[1;32m----> 2\u001b[1;33m \u001b[0mex23\u001b[0m\u001b[1;33m(\u001b[0m\u001b[1;33m)\u001b[0m\u001b[1;33m\u001b[0m\u001b[1;33m\u001b[0m\u001b[0m\n\u001b[0m",
      "\u001b[1;31mNameError\u001b[0m: name 'ex23' is not defined"
     ]
    }
   ],
   "source": [
    "# There is no need to run this chunk of code.\n",
    "ex23()"
   ]
  },
  {
   "cell_type": "markdown",
   "metadata": {},
   "source": [
    "\n",
    "***Problem 24:*** Write a program to find all the numbers divisible by 6 but not a multiple of 5 between 100 and 500 (inclusive). Print the numbers as a comma-separated string."
   ]
  },
  {
   "cell_type": "code",
   "execution_count": 7,
   "metadata": {},
   "outputs": [
    {
     "name": "stdout",
     "output_type": "stream",
     "text": [
      "[102, 108, 114, 126, 132, 138, 144, 156, 162, 168, 174, 186, 192, 198, 204, 216, 222, 228, 234, 246, 252, 258, 264, 276, 282, 288, 294, 306, 312, 318, 324, 336, 342, 348, 354, 366, 372, 378, 384, 396, 402, 408, 414, 426, 432, 438, 444, 456, 462, 468, 474, 486, 492, 498]\n"
     ]
    }
   ],
   "source": [
    "###_____________Start code here_________________###\n",
    "\n",
    "def finddivis():\n",
    "    x = range(100, 501)\n",
    "    y = []\n",
    "    dividebysix = []\n",
    "    for n in x:\n",
    "        y.append(n)\n",
    "        if n % 5 == 0:\n",
    "            y.remove(n)\n",
    "    for n in y:\n",
    "        if n % 6 == 0:\n",
    "            dividebysix.append(n)\n",
    "    return dividebysix\n",
    "print(finddivis())\n",
    "###_____________End code here_________________###"
   ]
  },
  {
   "cell_type": "code",
   "execution_count": null,
   "metadata": {},
   "outputs": [],
   "source": [
    "# There is no need to run this chunk of code.\n",
    "ex24()"
   ]
  },
  {
   "cell_type": "markdown",
   "metadata": {},
   "source": [
    "***Example 25:*** Write a program that converts \"firstname lastname\" to \"lastname, firstname\", using list comprehensions."
   ]
  },
  {
   "cell_type": "code",
   "execution_count": 25,
   "metadata": {},
   "outputs": [],
   "source": [
    "ls = ['Հրաչյա Վարդանյան', 'Անուշ Կարապետյան', 'Գոռ Անտոնյան', 'Տաթեւ Հարությունյան', 'Mary Sargsyan']"
   ]
  },
  {
   "cell_type": "code",
   "execution_count": 6,
   "metadata": {},
   "outputs": [
    {
     "name": "stdout",
     "output_type": "stream",
     "text": [
      "['Վարդանյան Հրաչյա', 'Կարապետյան Անուշ', 'Անտոնյան Գոռ', 'Հարությունյան Տաթեւ', 'Sargsyan Mary']\n"
     ]
    }
   ],
   "source": [
    "###_____________Start code here_________________###\n",
    "\n",
    "ls = ['Հրաչյա Վարդանյան', 'Անուշ Կարապետյան', 'Գոռ Անտոնյան', 'Տաթեւ Հարությունյան', 'Mary Sargsyan']\n",
    "ls2 =[i.strip().split() for i in ls]\n",
    "newls = []\n",
    "ls4 = [i.reverse() for i in ls2]\n",
    "l = 0\n",
    "while l<len(ls2):\n",
    "    f = ls2[l][0] + \" \" + ls2[l][1]\n",
    "    newls.append(f)\n",
    "    l+=1\n",
    "print(newls)\n",
    "###_____________End code here_________________###"
   ]
  },
  {
   "cell_type": "code",
   "execution_count": null,
   "metadata": {},
   "outputs": [],
   "source": [
    "# There is no need to run this chunk of code.\n",
    "ex25(ls)"
   ]
  },
  {
   "cell_type": "markdown",
   "metadata": {},
   "source": [
    "***Problem 27:*** Write a function to devide an input list of ages between 0 and 70 into 4 groups.<br><br>\n",
    "Baby Boomers  - (50 to 70 years old]<br>\n",
    "Generation X - (34 to 50 years old]<br>\n",
    "Generation Y - (18 to 34 years old]<br>\n",
    "Generation Z - [0 to 18 years old]<br>\n",
    "\n",
    "Return a dictionary with the following structure:\n",
    "{'Group 1':[ages],'Group 2':[ages],'Group 3':[ages],'Group 4':[ages]}"
   ]
  },
  {
   "cell_type": "code",
   "execution_count": 60,
   "metadata": {},
   "outputs": [
    {
     "name": "stdout",
     "output_type": "stream",
     "text": [
      "{'Group 1': [69, 58, 52, 65], 'Group 2': [], 'Group 3': [29, 23, 24], 'Group 4': [18, 3, 14, 10, 1, 5]}\n"
     ]
    }
   ],
   "source": [
    "ls = [18,29,3,14,69,10,1,58,52,23,24,5,65]\n",
    "###_____________Start code here_________________###\n",
    "def div(ls):\n",
    "    dict = {}\n",
    "#     lst = []\n",
    "    bb =[]\n",
    "    x=[]\n",
    "    y=[]\n",
    "    z=[]\n",
    "    lis=(range(0,71))\n",
    "    for key in ls:\n",
    "#         lst.append(key)\n",
    "        if key in range(51,70):\n",
    "            bb.append(key)\n",
    "        if key in range(35,51):\n",
    "            x.append(key)\n",
    "        if key in range(19,35):\n",
    "            y.append(key)\n",
    "        if key in range(0,19):\n",
    "            z.append(key)\n",
    "\n",
    "    dict[\"Group 1\"] = bb\n",
    "    dict[\"Group 2\"] = x\n",
    "    dict[\"Group 3\"] = y\n",
    "    dict[\"Group 4\"] = z\n",
    "    return dict\n",
    "print(div(ls))\n",
    "\n",
    "###_____________End code here_________________###"
   ]
  },
  {
   "cell_type": "code",
   "execution_count": null,
   "metadata": {},
   "outputs": [],
   "source": [
    "# There is no need to run this chunk of code.\n",
    "ex27(ls)"
   ]
  }
 ],
 "metadata": {
  "kernelspec": {
   "display_name": "Python 3",
   "language": "python",
   "name": "python3"
  },
  "language_info": {
   "codemirror_mode": {
    "name": "ipython",
    "version": 3
   },
   "file_extension": ".py",
   "mimetype": "text/x-python",
   "name": "python",
   "nbconvert_exporter": "python",
   "pygments_lexer": "ipython3",
   "version": "3.7.1"
  }
 },
 "nbformat": 4,
 "nbformat_minor": 2
}
